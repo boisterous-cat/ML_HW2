{
  "cells": [
    {
      "cell_type": "markdown",
      "metadata": {
        "id": "gnQbtTdWfW9D"
      },
      "source": [
        "### Домашня работа 2.\n",
        "### Логистическая регрессия. Работа с признаками"
      ]
    },
    {
      "cell_type": "markdown",
      "metadata": {
        "id": "w557jUHifW9E"
      },
      "source": [
        "\n",
        "### Оценивание и штрафы\n",
        "Каждая из задач имеет определенную «стоимость» (указана в скобках около задачи). Максимально допустимая оценка за работу — 15 баллов. Можно получить 4.5 бонусных балла.\n",
        "\n",
        "Неэффективная реализация кода может негативно отразиться на оценке."
      ]
    },
    {
      "cell_type": "code",
      "execution_count": null,
      "metadata": {
        "id": "4sNij8TBfW9F",
        "outputId": "e3484bdd-688f-4291-9e47-2f4c50e111b1",
        "colab": {
          "base_uri": "https://localhost:8080/"
        }
      },
      "outputs": [
        {
          "output_type": "stream",
          "name": "stdout",
          "text": [
            "Всем удачи!👒 Тут она точно пригодится.\n"
          ]
        }
      ],
      "source": [
        "print('Всем удачи!👒 Тут она точно пригодится.')"
      ]
    },
    {
      "cell_type": "code",
      "execution_count": null,
      "metadata": {
        "ExecuteTime": {
          "end_time": "2019-10-16T18:11:48.202066Z",
          "start_time": "2019-10-16T18:11:46.362572Z"
        },
        "id": "M8BNjCPefW9G",
        "colab": {
          "base_uri": "https://localhost:8080/"
        },
        "outputId": "9bf92b5a-da1c-4b26-ab5f-7a04cd7c6eec"
      },
      "outputs": [
        {
          "output_type": "stream",
          "name": "stdout",
          "text": [
            "Populating the interactive namespace from numpy and matplotlib\n"
          ]
        }
      ],
      "source": [
        "%pylab inline\n",
        "import pandas as pd\n",
        "\n",
        "from sklearn.datasets import make_classification\n",
        "from sklearn.model_selection import train_test_split"
      ]
    },
    {
      "cell_type": "markdown",
      "metadata": {
        "id": "tOMwMjCLfW9G"
      },
      "source": [
        "## Часть 1. Логистическая регрессия своими руками (4 балла)"
      ]
    },
    {
      "cell_type": "markdown",
      "metadata": {
        "ExecuteTime": {
          "end_time": "2018-10-12T07:36:04.765536Z",
          "start_time": "2018-10-12T07:35:57.814973Z"
        },
        "id": "E04ao7scfW9G"
      },
      "source": [
        "Реализуйте логистическую регрессию, обучаемую с помощью:\n",
        "\n",
        "**Задание 1 (1.5 балла). Градиентного спуска**\n",
        "\n",
        "**Задание 2 (1.5 балла). Стохастического градиентного спуска**\n",
        "\n",
        "Во всех пунктах необходимо соблюдать следующие условия:\n",
        "- Градиентный спуск необходимо записать в векторном виде\n",
        "- Циклы средствами python допускается использовать только для итераций градиентного спуска;\n",
        "- В качестве критерия останова необходимо использовать (одновременно):\n",
        "\n",
        "        проверку на евклидову норму разности весов на двух соседних итерациях (например, меньше некоторого малого числа порядка $10^{-6}$) задаваемого параметром `tolerance`;\n",
        "\n",
        "\n",
        "        достижение максимального числа итераций (например, 10000), задаваемого параметром `max_iter`.\n",
        "\n",
        "Чтобы проследить, что оптимизационный процесс действительно сходится, будем использовать атрибут класса loss_history. В нём после вызова метода fit должны содержаться значения функции потерь для всех итераций, начиная с первой (до совершения первого шага по антиградиенту);\n",
        "\n",
        "Инициализировать веса можно случайным образом или нулевым вектором."
      ]
    },
    {
      "cell_type": "markdown",
      "metadata": {
        "id": "zFB-CXs_fW9G"
      },
      "source": [
        "Полезно [почитать](https://scikit-learn.org/stable/developers/develop.html)."
      ]
    },
    {
      "cell_type": "markdown",
      "source": [
        "градиент функции logloss записанные в матричном виде $X^{T}(\\sigma(XW)-Y)$"
      ],
      "metadata": {
        "id": "nzB6cBBfWPiM"
      }
    },
    {
      "cell_type": "code",
      "execution_count": null,
      "metadata": {
        "ExecuteTime": {
          "end_time": "2019-10-16T18:11:50.932537Z",
          "start_time": "2019-10-16T18:11:50.752839Z"
        },
        "id": "uMRw3UjOfW9G"
      },
      "outputs": [],
      "source": [
        "import numpy as np\n",
        "from sklearn.base import BaseEstimator\n",
        "from tqdm import tqdm_notebook\n",
        "from scipy.special import expit as sigm\n",
        "\n",
        "class MyLogReg(BaseEstimator):\n",
        "    def __init__(self, gd_type='stochastic',\n",
        "                 tolerance=1e-4, max_iter=1000, w0=None, alpha=1e-3, eta=1e-2, batch_size=1):\n",
        "        \"\"\"\n",
        "        gd_type: 'full' or 'stochastic'\n",
        "        tolerance: for stopping gradient descent\n",
        "        max_iter: maximum number of steps in gradient descent\n",
        "        w0: np.array of shape (d) — init weights\n",
        "        eta: learning rate\n",
        "        loss_history: save losses at each iteration\n",
        "        \"\"\"\n",
        "        self.gd_type = gd_type\n",
        "        self.tolerance = tolerance\n",
        "        self.max_iter = max_iter\n",
        "        self.w0 = w0\n",
        "        self.alpha = alpha\n",
        "        self.w = None\n",
        "        self.eta = eta\n",
        "        self.loss_history = None # list of loss function values at each training iteration\n",
        "        self.batch_size = batch_size\n",
        "\n",
        "    def fit(self, X, y):\n",
        "        \"\"\"\n",
        "        X: np.array of shape (ell, d)\n",
        "        y: np.array of shape (ell)\n",
        "        ---\n",
        "        output: self\n",
        "        \"\"\"\n",
        "        self.loss_history = []\n",
        "        #╰( ͡° ͜ʖ ͡° )つ──☆*:・ﾟ\n",
        "        if y is None:\n",
        "            raise ValueError('Requires y to be passed, but the target y is None')\n",
        "        if self.w0 is None:\n",
        "          self.w0 = np.random.rand(X.shape[1])\n",
        "\n",
        "        self.w=self.w0.copy()\n",
        "\n",
        "        for iter_num in range(self.max_iter):\n",
        "          grad = self.calc_gradient(X, y)\n",
        "          if (np.linalg.norm(self.eta*grad) < self.tolerance):\n",
        "            return self\n",
        "          # движение в негативную сторону вычисляемого градиента\n",
        "          self.w = self.w - self.eta * grad\n",
        "          loss = self.calc_loss(X,y)\n",
        "          self.loss_history.append(loss)\n",
        "\n",
        "        return self\n",
        "\n",
        "\n",
        "    def predict_proba(self, X):\n",
        "        if self.w is None:\n",
        "            raise Exception('Not trained yet')\n",
        "        #╰( ͡° ͜ʖ ͡° )つ──☆*:・ﾟ\n",
        "        y_hat = 1/(1+np.exp(-np.dot(X,self.w)))\n",
        "        return y_hat\n",
        "\n",
        "\n",
        "    def predict(self, X):\n",
        "        if self.w is None:\n",
        "            raise Exception('Not trained yet')\n",
        "        #╰( ͡° ͜ʖ ͡° )つ──☆*:・ﾟ\n",
        "        y_hat_proba = self.predict_proba(X)\n",
        "\n",
        "        return [1 if p > 0.5 else 0 for p in y_hat_proba]\n",
        "\n",
        "    def calc_gradient(self, X_orig, y_orig):\n",
        "        \"\"\"\n",
        "        X: np.array of shape (ell, d) (ell can be equal to 1 if stochastic)\n",
        "        y: np.array of shape (ell)\n",
        "        ---\n",
        "        output: np.array of shape (d)\n",
        "        \"\"\"\n",
        "        #╰( ͡° ͜ʖ ͡° )つ──☆*:・ﾟ\n",
        "        #определимс с типом градиента\n",
        "        if self.gd_type == \"full\":\n",
        "          y =y_orig\n",
        "          X=X_orig\n",
        "        elif self.gd_type==\"stochastic\":\n",
        "          #создадим случайные индексы выбираемых объектов\n",
        "          ind = np.random.randint(X_orig.shape[0], size=self.batch_size)\n",
        "          X=X_orig[ind]\n",
        "          y=y_orig[ind]\n",
        "        else:\n",
        "          raise Exception(\"Unknown type of gradient\")\n",
        "        #посчитаем градиент\n",
        "        y_pred = self.predict_proba(X)\n",
        "        grad = -(X.T @ (y-y_pred))/ len(y)\n",
        "        return grad\n",
        "\n",
        "    def calc_loss(self, X, y):\n",
        "        \"\"\"\n",
        "        X: np.array of shape (ell, d)\n",
        "        y: np.array of shape (ell)\n",
        "        ---\n",
        "        output: float\n",
        "        \"\"\"\n",
        "\n",
        "        #╰( ͡° ͜ʖ ͡° )つ──☆*:・ﾟ\n",
        "        #get predictions\n",
        "        y_pred = self.predict_proba(X)\n",
        "        #использую logloss, так как он корректно штрафует + выпуклый\n",
        "        #чтобы избежать 0 в логарифме добавим минимальное значение\n",
        "\n",
        "        logloss_1 = np.sum(np.log(y_pred[y==1]+1e-30))\n",
        "        logloss_0 = np.sum(np.log(1-y_pred[y==0]+1e-30))\n",
        "        loss = -(logloss_0 + logloss_1) / len(y)\n",
        "        return loss"
      ]
    },
    {
      "cell_type": "markdown",
      "metadata": {
        "id": "EMuy0oaEfW9H"
      },
      "source": [
        "Синтетические данные"
      ]
    },
    {
      "cell_type": "code",
      "execution_count": null,
      "metadata": {
        "id": "d3_WmOMNfW9H",
        "outputId": "d2605195-3d25-4d88-c9e5-b7504332c778",
        "colab": {
          "base_uri": "https://localhost:8080/"
        }
      },
      "outputs": [
        {
          "output_type": "stream",
          "name": "stdout",
          "text": [
            "Populating the interactive namespace from numpy and matplotlib\n"
          ]
        }
      ],
      "source": [
        "%pylab inline\n",
        "import pandas as pd\n",
        "\n",
        "from sklearn.datasets import make_classification\n",
        "from sklearn.model_selection import train_test_split"
      ]
    },
    {
      "cell_type": "code",
      "execution_count": null,
      "metadata": {
        "id": "DJ1kawo3fW9H"
      },
      "outputs": [],
      "source": [
        "X, y = make_classification(\n",
        "    n_samples=100000, n_features=20, n_informative=10, n_redundant=10,\n",
        "    random_state=42)\n",
        "\n",
        "X_train, X_test, y_train, y_test = train_test_split(\n",
        "    X, y, test_size=0.3, random_state=42)"
      ]
    },
    {
      "cell_type": "markdown",
      "metadata": {
        "id": "cUGJpLZufW9H"
      },
      "source": [
        "**Важно:** далее предполагается, что вы используете собственную реализацию логистической регрессии.\n",
        "Если с написанием класса возникли проблемы, используйте реализацию sklearn, чтобы не терять баллы за остальные задания."
      ]
    },
    {
      "cell_type": "markdown",
      "metadata": {
        "id": "xy8rbkinfW9H"
      },
      "source": [
        "**Задание 3 (1 балл)**\n",
        "\n",
        "Обучите логистическую регрессию на синтетических данных."
      ]
    },
    {
      "cell_type": "code",
      "source": [
        "test1 = MyLogReg(gd_type='full')\n",
        "test2 = MyLogReg(gd_type='stochastic', batch_size=5)\n",
        "\n",
        "test1.fit(X_train, y_train)\n",
        "test2.fit(X_train, y_train)\n",
        "\n",
        "y_pred1 = test1.predict(X_test)\n",
        "y_pred2 = test2.predict(X_test)\n",
        "\n",
        "accuracy1 =(y_pred1 == y_test).sum() / len(y_test)\n",
        "accuracy2 =(y_pred2 == y_test).sum() / len(y_test)\n",
        "\n",
        "print(f\"Accuracy for full gradient: {accuracy1}\")\n",
        "print(f\"Accuracy for stohastic gradient: {accuracy2}\")\n"
      ],
      "metadata": {
        "colab": {
          "base_uri": "https://localhost:8080/"
        },
        "id": "lyij0h5GTsyU",
        "outputId": "87a724b8-3fc8-46db-b993-19d51810a02e"
      },
      "execution_count": null,
      "outputs": [
        {
          "output_type": "stream",
          "name": "stdout",
          "text": [
            "Accuracy for full gradient: 0.8485666666666667\n",
            "Accuracy for stohastic gradient: 0.7755\n"
          ]
        }
      ]
    },
    {
      "cell_type": "code",
      "source": [
        "#Проверка на sklearn\n",
        "from sklearn.linear_model import LogisticRegression\n",
        "\n",
        "logreg = LogisticRegression(tol=1e-4, max_iter=1000,)\n",
        "logreg.fit(X_train, y_train)\n",
        "y_pred = logreg.predict(X_test)\n",
        "accuracy =(y_pred == y_test).sum() / len(y_test)\n",
        "print(f\"Accuracy for sklearn regression: {accuracy}\")"
      ],
      "metadata": {
        "colab": {
          "base_uri": "https://localhost:8080/"
        },
        "id": "mt0vTSpqw9uI",
        "outputId": "2bd57b2c-7ac0-4fe7-f38e-e71235baef6a"
      },
      "execution_count": null,
      "outputs": [
        {
          "output_type": "stream",
          "name": "stdout",
          "text": [
            "Accuracy for sklearn regression: 0.8486666666666667\n"
          ]
        }
      ]
    },
    {
      "cell_type": "markdown",
      "metadata": {
        "id": "wqHNI63lfW9I"
      },
      "source": [
        "На тестовой части посчитайте ROC-AUC, PR-AUC. Постройте ROC и PR кривые. Проинтерпретируйте результат."
      ]
    },
    {
      "cell_type": "code",
      "execution_count": null,
      "metadata": {
        "id": "LRqvX_-3fW9I",
        "colab": {
          "base_uri": "https://localhost:8080/"
        },
        "outputId": "705b545a-9456-4ec5-bc18-6a0e38b9c061"
      },
      "outputs": [
        {
          "output_type": "stream",
          "name": "stdout",
          "text": [
            "ROC AUC for full gradient=0.926\n",
            "ROC AUC for stohastic gradient=0.853\n",
            "ROC AUC for sklearn=0.926\n",
            "___________________________________\n",
            "PR-AUC for full gradient=0.924\n",
            "PR-AUC for stohastic gradient=0.859\n",
            "PR-AUC for sklearn=0.925\n"
          ]
        }
      ],
      "source": [
        "### ╰( ͡° ͜ʖ ͡° )つ──☆*:・ﾟ\n",
        "from sklearn.metrics import roc_auc_score, roc_curve, precision_recall_curve, auc\n",
        "import matplotlib.pyplot as plt\n",
        "\n",
        "#roc-auc\n",
        "model_test1 = test1.predict_proba(X_test)\n",
        "model_test2 = test2.predict_proba(X_test)\n",
        "model_sklearn = logreg.predict_proba(X_test)[:, 1]\n",
        "\n",
        "#посчитаем\n",
        "lr_probs1 = roc_auc_score(y_test, model_test1)\n",
        "lr_probs2 = roc_auc_score(y_test, model_test2)\n",
        "lr_probs_sklearn = roc_auc_score(y_test, model_sklearn)\n",
        "\n",
        "#Результат\n",
        "print('ROC AUC for full gradient=%.3f' % (lr_probs1))\n",
        "print('ROC AUC for stohastic gradient=%.3f' % (lr_probs2))\n",
        "print('ROC AUC for sklearn=%.3f' % (lr_probs_sklearn))\n",
        "\n",
        "print(\"___________________________________\")\n",
        "\n",
        "#pr-auc\n",
        "precision_test1, recall_test1, _ = precision_recall_curve(y_test, model_test1)\n",
        "precision_test2, recall_test2, _ = precision_recall_curve(y_test, model_test2)\n",
        "precision_sklearn, recall_sklearn, _ = precision_recall_curve(y_test, model_sklearn)\n",
        "\n",
        "#посчитаем\n",
        "pr_auc_test1 = auc(recall_test1, precision_test1)\n",
        "pr_auc_test2 = auc(recall_test2, precision_test2)\n",
        "pr_auc_sklearn = auc(recall_sklearn, precision_sklearn)\n",
        "\n",
        "#Результат\n",
        "print('PR-AUC for full gradient=%.3f' % (pr_auc_test1))\n",
        "print('PR-AUC for stohastic gradient=%.3f' % (pr_auc_test2))\n",
        "print('PR-AUC for sklearn=%.3f' % (pr_auc_sklearn))\n",
        "\n",
        "\n"
      ]
    },
    {
      "cell_type": "code",
      "source": [
        "fig, axes = plt.subplots(2, 3, figsize=(10, 10))\n",
        "\n",
        "# Построение ROC curve\n",
        "fpr_test1, tpr_test1, _ = roc_curve(y_test, model_test1)\n",
        "axes[0][0].plot(fpr_test1, tpr_test1)\n",
        "axes[0][0].plot([0, 1], [0, 1], 'r--')\n",
        "axes[0][0].set_xlabel('False Positive Rate')\n",
        "axes[0][0].set_ylabel('True Positive Rate')\n",
        "axes[0][0].set_title(f'ROC for full gradient (AUC = {lr_probs1:.3f})')\n",
        "\n",
        "fpr_test2, tpr_test2, _ = roc_curve(y_test, model_test2)\n",
        "axes[0][1].plot(fpr_test2, tpr_test2)\n",
        "axes[0][1].plot([0, 1], [0, 1], 'r--')\n",
        "axes[0][1].set_xlabel('False Positive Rate')\n",
        "axes[0][1].set_ylabel('True Positive Rate')\n",
        "axes[0][1].set_title(f'ROC for stohastic gradient (AUC = {lr_probs2:.3f})')\n",
        "\n",
        "fpr_sklearn, tpr_sklearn, _ = roc_curve(y_test, model_sklearn)\n",
        "axes[0][2].plot(fpr_sklearn, tpr_sklearn, label=\"sklearn\")\n",
        "axes[0][2].plot(fpr_test1, tpr_test1, label=\"full\")\n",
        "axes[0][2].plot(fpr_test2, tpr_test2, label=\"stohastic\")\n",
        "axes[0][2].plot([0, 1], [0, 1], 'r--')\n",
        "axes[0][2].set_xlabel('False Positive Rate')\n",
        "axes[0][2].set_ylabel('True Positive Rate')\n",
        "axes[0][2].set_title(f'ROC for sklearn (AUC = {lr_probs_sklearn:.3f})')\n",
        "axes[0][2].legend(loc='lower right')\n",
        "\n",
        "# Построение PR curve\n",
        "axes[1][0].plot(recall_test1, precision_test1)\n",
        "axes[1][0].set_xlabel('Recall')\n",
        "axes[1][0].set_ylabel('Precision')\n",
        "axes[1][0].set_title(f'PR for full gradient (AUC = {pr_auc_test1:.3f})')\n",
        "\n",
        "axes[1][1].plot(recall_test2, precision_test2)\n",
        "axes[1][1].set_xlabel('Recall')\n",
        "axes[1][1].set_ylabel('Precision')\n",
        "axes[1][1].set_title(f'PR for stohastic gradient (AUC = {pr_auc_test2:.3f})')\n",
        "\n",
        "axes[1][2].plot(recall_sklearn, precision_sklearn, label=\"sklearn\")\n",
        "axes[1][2].plot(recall_test1, precision_test1, label=\"full\")\n",
        "axes[1][2].plot(recall_test2, precision_test2, label=\"stohastic\")\n",
        "axes[1][2].set_xlabel('Recall')\n",
        "axes[1][2].set_ylabel('Precision')\n",
        "axes[1][2].set_title(f'PR for sklearn (AUC = {pr_auc_sklearn:.2f})')\n",
        "axes[1][2].legend(loc='lower left')\n",
        "\n",
        "plt.tight_layout()\n",
        "plt.subplots_adjust(wspace=0.4, hspace=0.4)\n"
      ],
      "metadata": {
        "colab": {
          "base_uri": "https://localhost:8080/",
          "height": 1000
        },
        "id": "-yx-7XoWf2Tt",
        "outputId": "022938c0-596d-4199-cbd3-b818597e54d9"
      },
      "execution_count": null,
      "outputs": [
        {
          "output_type": "display_data",
          "data": {
            "text/plain": [
              "<Figure size 1000x1000 with 6 Axes>"
            ],
            "image/png": "[encoded data removed]"
          },
          "metadata": {}
        }
      ]
    },
    {
      "cell_type": "markdown",
      "source": [
        "## **Выводы**:  \n",
        "Хуже всего себя показывает модель стохастического градиентного спуска. Для вычислений стохастического градиентного спуска использовалось разбиение на подвыборку (batch_size = 5). Результаты экспериментов показали, что меньшая подвыборка дает еще более худший результат. А большая подвыборка идентична градиентному спуску.  \n",
        "При этом мы видим, что full gradient идентичен по реультатам модели sklearn.\n"
      ],
      "metadata": {
        "id": "ZbQfzGU8nHdg"
      }
    },
    {
      "cell_type": "markdown",
      "metadata": {
        "id": "xow32--JfW9I"
      },
      "source": [
        "## Часть 2. Работа с категориальными переменными (3 балла)"
      ]
    },
    {
      "cell_type": "markdown",
      "metadata": {
        "id": "LxTbPsENfW9I"
      },
      "source": [
        "В этой части мы научимся обрабатывать категориальные переменные, так как закодировать их в виде чисел недостаточно (это задаёт некоторый порядок, которого на категориальных переменных может и не быть). Существует два основных способа обработки категориальных значений:\n",
        "- One-hot-кодирование\n",
        "- Счётчики (CTR, mean-target кодирование, ...) — каждый категориальный признак заменяется на среднее значение целевой переменной по всем объектам, имеющим одинаковое значение в этом признаке.\n",
        "\n",
        "Начнём с one-hot-кодирования. Допустим наш категориальный признак $f_j(x)$ принимает значения из множества $C=\\{c_1, \\dots, c_m\\}$. Заменим его на $m$ бинарных признаков $b_1(x), \\dots, b_m(x)$, каждый из которых является индикатором одного из возможных категориальных значений:\n",
        "$$\n",
        "b_i(x) = [f_j(x) = c_i]\n",
        "$$"
      ]
    },
    {
      "cell_type": "markdown",
      "metadata": {
        "ExecuteTime": {
          "end_time": "2018-10-11T20:41:54.913436Z",
          "start_time": "2018-10-11T20:41:54.907515Z"
        },
        "id": "tnBDqe5YfW9I"
      },
      "source": [
        "__Подготовка данных.__\n",
        "\n",
        "Загрузим данные с конкурса  [Kaggle Porto Seguro’s Safe Driver Prediction](https://www.kaggle.com/c/porto-seguro-safe-driver-prediction) (вам нужна только обучающая выборка). Задача состоит в определении водителей, которые в ближайший год воспользуются своей автомобильной страховкой (бинарная классификация). Но для нас важна будет не сама задача, а только её данные. При этом для задания мы немного модифицируем датасет."
      ]
    },
    {
      "cell_type": "code",
      "execution_count": null,
      "metadata": {
        "ExecuteTime": {
          "end_time": "2018-10-12T07:36:04.765536Z",
          "start_time": "2018-10-12T07:35:57.814973Z"
        },
        "id": "g8PJnt1EfW9I"
      },
      "outputs": [],
      "source": [
        "data = pd.read_csv('/content/train.csv', index_col=0)\n",
        "target = data.target.values\n",
        "data = data.drop('target', axis=1)"
      ]
    },
    {
      "cell_type": "markdown",
      "metadata": {
        "id": "Wr7paTHgfW9I"
      },
      "source": [
        "Пересемплируем выборку так, чтобы положительных и отрицательных объектов в выборке было одинаковое число. Разделим на обучающую и тестовую выборки.\n"
      ]
    },
    {
      "cell_type": "code",
      "execution_count": null,
      "metadata": {
        "ExecuteTime": {
          "end_time": "2018-10-12T07:36:05.368407Z",
          "start_time": "2018-10-12T07:36:04.770388Z"
        },
        "id": "P7srzaW3fW9I"
      },
      "outputs": [],
      "source": [
        "# some resampling\n",
        "np.random.seed(910)\n",
        "mask_plus = np.random.choice(np.where(target == 1)[0], 100000, replace=True)\n",
        "mask_zero = np.random.choice(np.where(target == 0)[0], 100000, replace=True)\n",
        "\n",
        "data = pd.concat((data.iloc[mask_plus], data.iloc[mask_zero]))\n",
        "target = np.hstack((target[mask_plus], target[mask_zero]))\n",
        "\n",
        "X_train, X_test, y_train, y_test = train_test_split(data, target, test_size=0.5)"
      ]
    },
    {
      "cell_type": "markdown",
      "metadata": {
        "id": "w3NaoazTfW9I"
      },
      "source": [
        "**Задание 5 (0 баллов).** Посчитайте качество (в этом задании будем работать c ROC-AUC) на исходных признаках при применении логистической регрессии."
      ]
    },
    {
      "cell_type": "code",
      "source": [
        "from sklearn.metrics import roc_auc_score, roc_curve, precision_recall_curve, auc\n",
        "from sklearn.linear_model import LogisticRegression"
      ],
      "metadata": {
        "id": "EmEF2NHLz1Ug"
      },
      "execution_count": null,
      "outputs": []
    },
    {
      "cell_type": "code",
      "execution_count": null,
      "metadata": {
        "id": "tabkUzaIfW9I",
        "colab": {
          "base_uri": "https://localhost:8080/"
        },
        "outputId": "e3cfc0a4-9d60-4ba6-c360-74e716793802"
      },
      "outputs": [
        {
          "output_type": "stream",
          "name": "stdout",
          "text": [
            "ROC-AUC (my) = 0.5114844981653768\n"
          ]
        }
      ],
      "source": [
        "### ╰( ͡° ͜ʖ ͡° )つ──☆*:・ﾟ\n",
        "my_model = MyLogReg(gd_type='full')\n",
        "my_model.fit(X_train, y_train)\n",
        "y_pred_my = my_model.predict_proba(X_test)\n",
        "\n",
        "print('ROC-AUC (my) = {}'.format(roc_auc_score(y_test, y_pred_my)))\n"
      ]
    },
    {
      "cell_type": "code",
      "source": [
        "#sklearn продолжаю сравнивать со своей моделью\n",
        "model = LogisticRegression(max_iter=1000, solver='sag')\n",
        "model.fit(X_train, y_train)\n",
        "y_pred = model.predict_proba(X_test)[:, 1]\n",
        "\n",
        "print('ROC-AUC (sklearn) = {}'.format(roc_auc_score(y_test, y_pred)))"
      ],
      "metadata": {
        "colab": {
          "base_uri": "https://localhost:8080/"
        },
        "id": "6dhEYghJ0o6H",
        "outputId": "3e8dca18-7ed2-4895-d28e-719bfc3debcd"
      },
      "execution_count": null,
      "outputs": [
        {
          "output_type": "stream",
          "name": "stdout",
          "text": [
            "ROC-AUC (sklearn) = 0.6250654322009421\n"
          ]
        }
      ]
    },
    {
      "cell_type": "markdown",
      "metadata": {
        "id": "ShZXYbk_fW9I"
      },
      "source": [
        "**Задание 6 (0.5 балла).** Закодируйте все категориальные признаки с помощью one-hot-кодирования. Обучите логистическую регрессию и посмотрите, как изменилось качество модели (с тем, что было до кодирования). Измерьте время, потребовавшееся на обучение модели."
      ]
    },
    {
      "cell_type": "code",
      "execution_count": null,
      "metadata": {
        "id": "N8agJrZIfW9J"
      },
      "outputs": [],
      "source": [
        "### ╰( ͡° ͜ʖ ͡° )つ──☆*:・ﾟ\n",
        "#примем за категорииальные признаки те, которые по описанию имеют в названии cat\n",
        "cols = [col for col in X_train.columns if 'cat' in col]\n",
        "\n",
        "X_train_ohe = pd.get_dummies(X_train, columns=cols, drop_first=True)\n",
        "X_test_ohe = pd.get_dummies(X_test, columns=cols, drop_first=True)"
      ]
    },
    {
      "cell_type": "code",
      "source": [
        "X_train_ohe.shape"
      ],
      "metadata": {
        "colab": {
          "base_uri": "https://localhost:8080/"
        },
        "id": "HjWg0fm_OBC4",
        "outputId": "8c385977-8ab8-4307-9009-f35c8751feaf"
      },
      "execution_count": null,
      "outputs": [
        {
          "output_type": "execute_result",
          "data": {
            "text/plain": [
              "(100000, 212)"
            ]
          },
          "metadata": {},
          "execution_count": 23
        }
      ]
    },
    {
      "cell_type": "code",
      "source": [
        "import time\n",
        "from statistics import mean\n",
        "\n",
        "test_time_my=[]\n",
        "test_time_sk=[]\n",
        "\n",
        "start_time_my = time.time()\n",
        "my_model = MyLogReg(gd_type='full')\n",
        "my_model.fit(X_train_ohe, y_train)\n",
        "end_time_my=time.time()\n",
        "test_time_my.append(end_time_my-start_time_my)\n",
        "\n",
        "start_time_sk = time.time()\n",
        "sk_model = LogisticRegression(max_iter=1000, solver='sag')\n",
        "sk_model.fit(X_train_ohe, y_train)\n",
        "end_time_sk=time.time()\n",
        "test_time_sk.append(end_time_sk-start_time_sk)\n",
        "\n",
        "y_prob_my = my_model.predict_proba(X_test_ohe)\n",
        "y_prob_sk = sk_model.predict_proba(X_test_ohe)[:, 1]\n",
        "\n",
        "#посчитаем\n",
        "lr_probs = roc_auc_score(y_test, y_prob_my)\n",
        "lr_probs_sk = roc_auc_score(y_test, y_prob_sk)\n",
        "\n",
        "#Результат\n",
        "print('ROC AUC for full gradient = %.3f' % (lr_probs))\n",
        "print('ROC AUC for sklearn = %.3f' % (lr_probs_sk))\n",
        "print(\"---------------------\")\n",
        "print(\"Average time for my model: \", mean(test_time_my))\n",
        "print(\"Average time for sklearn model: \", mean(test_time_sk))\n",
        "\n",
        "\n",
        "\n"
      ],
      "metadata": {
        "colab": {
          "base_uri": "https://localhost:8080/"
        },
        "id": "xAZgSYvB4CCl",
        "outputId": "1a7cc9fb-f0fb-434f-c257-6146e9a2e14c"
      },
      "execution_count": null,
      "outputs": [
        {
          "output_type": "stream",
          "name": "stdout",
          "text": [
            "ROC AUC for full gradient = 0.555\n",
            "ROC AUC for sklearn = 0.633\n",
            "---------------------\n",
            "Average time for my model:  457.9560978412628\n",
            "Average time for sklearn model:  353.269348859787\n"
          ]
        }
      ]
    },
    {
      "cell_type": "markdown",
      "source": [
        "**Выводы:** Время выполнения моей моделью и моделью sklearn в разы отличается. Но качество собственной модели улучшилось на 3 сотых, а вот качество модели sklearn, при тех же параметрах, улучшилось только на  сотую."
      ],
      "metadata": {
        "id": "K4Earhvo7O3W"
      }
    },
    {
      "cell_type": "markdown",
      "metadata": {
        "id": "tnWw2-msfW9J"
      },
      "source": [
        "Как можно было заменить, one-hot-кодирование сильно увилечивает количество признаков в датасете, что сказывается на памяти, особенно, если некоторый признак имеет большое количество значений. Эту проблему решает другой способ кодирование категориальных признаков — счётчики. Основная идея в том, что нам важны не сами категории, а значения целевой переменной, которые имеют объекты этой категории. Каждый категориальный признак мы заменим средним значением целевой переменной по всем объектам этой же категории:\n",
        "$$\n",
        "g_j(x, X) = \\frac{\\sum_{i=1}^{l} [f_j(x) = f_j(x_i)][y_i = +1]}{\\sum_{i=1}^{l} [f_j(x) = f_j(x_i)]}\n",
        "$$\n",
        "\n",
        "__Задание 7 (1.5 балла).__ Закодируйте категориальные переменные с помощью счётчиков (ровно так, как описано выше, без каких-либо хитростей). Обучите логистическую регрессию и посмотрите на качество модели на тестовом множестве. Сравните время обучения с предыдущим экспериментом. Заметили ли вы что-то интересное?\n"
      ]
    },
    {
      "cell_type": "code",
      "source": [
        "def calc_smooth_mean(df, on, y, size):\n",
        "  \"\"\"\n",
        "  df: DataFrame\n",
        "  on: Column name\n",
        "  y: Target frame\n",
        "  size: размер колонки\n",
        "  \"\"\"\n",
        "\n",
        "  #считаем категории в колонке\n",
        "  cat_list = np.unique(df[on])\n",
        "  #создаем шаблон для значений\n",
        "  counts = np.zeros(size)\n",
        "\n",
        "  for cat in cat_list:\n",
        "    #Считаем числитель - количество объектов категории с таргетом +1\n",
        "    numerator = np.sum(np.equal(df[on], cat) & y == 1)\n",
        "    #считаем знаменатель - обзее количество объектов по категории\n",
        "    denominator = np.sum(np.equal(df[on], cat))\n",
        "    #вычисляем среднее\n",
        "    smooth = numerator/denominator\n",
        "\n",
        "    #записываем значения по категории в наш шаблон, чтобы его подложить в фрейм\n",
        "    counts[df[on]==cat]=smooth\n",
        "\n",
        "  return counts"
      ],
      "metadata": {
        "id": "aZlkpLaL_Ljq"
      },
      "execution_count": null,
      "outputs": []
    },
    {
      "cell_type": "code",
      "source": [
        "X_train_counts = X_train.copy()\n",
        "X_test_counts = X_test.copy()\n",
        "\n",
        "for col in cols:\n",
        "  X_train_counts.loc[:, col] = calc_smooth_mean(X_train, col, y_train, np.size(X_train[col]))\n",
        "  X_test_counts.loc[:, col] = calc_smooth_mean(X_train, col, y_train, np.size(X_test[col]))"
      ],
      "metadata": {
        "id": "BI6diAPeBC_x"
      },
      "execution_count": null,
      "outputs": []
    },
    {
      "cell_type": "code",
      "source": [
        "test_time_my=[]\n",
        "test_time_sk=[]\n",
        "\n",
        "start_time_my = time.time()\n",
        "my_model = MyLogReg(gd_type='full')\n",
        "my_model.fit(X_train_counts, y_train)\n",
        "end_time_my=time.time()\n",
        "test_time_my.append(end_time_my-start_time_my)\n",
        "\n",
        "start_time_sk = time.time()\n",
        "sk_model = LogisticRegression(max_iter=10000, solver='sag')\n",
        "sk_model.fit(X_train_counts, y_train)\n",
        "end_time_sk=time.time()\n",
        "test_time_sk.append(end_time_sk-start_time_sk)\n",
        "\n",
        "y_prob_my = my_model.predict_proba(X_test_counts)\n",
        "y_prob_sk = sk_model.predict_proba(X_test_counts)[:, 1]\n",
        "\n",
        "#посчитаем\n",
        "lr_probs = roc_auc_score(y_test, y_prob_my)\n",
        "lr_probs_sk = roc_auc_score(y_test, y_prob_sk)\n",
        "\n",
        "#Результат\n",
        "print('ROC AUC for full gradient = %.3f' % (lr_probs))\n",
        "print('ROC AUC for sklearn = %.3f' % (lr_probs_sk))\n",
        "print(\"---------------------\")\n",
        "print(\"Average time for my model: \", mean(test_time_my))\n",
        "print(\"Average time for sklearn model: \", mean(test_time_sk))"
      ],
      "metadata": {
        "colab": {
          "base_uri": "https://localhost:8080/"
        },
        "id": "9BOdYujgGpLR",
        "outputId": "5b69666a-efd1-46bf-e65c-69e3d0c2da74"
      },
      "execution_count": null,
      "outputs": [
        {
          "output_type": "stream",
          "name": "stdout",
          "text": [
            "ROC AUC for full gradient = 0.544\n",
            "ROC AUC for sklearn = 0.579\n",
            "---------------------\n",
            "Average time for my model:  176.07866382598877\n",
            "Average time for sklearn model:  180.4179413318634\n"
          ]
        }
      ]
    },
    {
      "cell_type": "markdown",
      "source": [
        "**Выводы:** В этот раз модели обучились быстрее, чем при one-hot. При этом качество моделей ухудшилось в сравнении с OHE.Для самописной модели ухудшение незначительное, только 1 сотая. А вот модель sklearn сильно ухудшилась."
      ],
      "metadata": {
        "id": "wdz-1ZS0IYMT"
      }
    },
    {
      "cell_type": "markdown",
      "metadata": {
        "id": "a_4w2SpTfW9J"
      },
      "source": [
        "Отметим, что такие признаки сами по себе являются классификаторами и, обучаясь на них, мы допускаем \"утечку\" целевой переменной в признаки. Это ведёт к переобучению, поэтому считать такие признаки необходимо так, чтобы при вычислении для конкретного объекта его целевая метка не использовалась. Это можно делать следующими способами:\n",
        "1. Вычислять значение счётчика по всем объектам расположенным выше в датасете (например, если у нас выборка отсортирована по времени).\n",
        "2. Вычислять по фолдам, то есть делить выборку на некоторое количество частей и подсчитывать значение признаков по всем фолдам кроме текущего (как делается в кросс-валидации).\n",
        "3. Внесение некоторого шума в посчитанные признаки.\n",
        "\n",
        "__Задание 8 (1 балл)__. Реализуйте корректное вычисление счётчиков самым простым способом — добавление шума к значениям (необходимо соблюсти баланс между избавление от переобучения и полезностью признаков). Снова обучите логистическую регрессию, оцените качество. Сделайте выводы.\n"
      ]
    },
    {
      "cell_type": "code",
      "execution_count": null,
      "metadata": {
        "id": "vSRyifs8fW9J"
      },
      "outputs": [],
      "source": [
        "### ╰( ͡° ͜ʖ ͡° )つ──☆*:・ﾟ\n",
        "def calc_noise_mean(df, on, y, size):\n",
        "  \"\"\"\n",
        "  df: DataFrame\n",
        "  on: Column name\n",
        "  y: Target frame\n",
        "  size: размер колонки\n",
        "  \"\"\"\n",
        "\n",
        "  cat_list = np.unique(df[on])\n",
        "  counts = np.zeros(size)\n",
        "\n",
        "  for cat in cat_list:\n",
        "    #Считаем числитель - количество объектов категории с таргетом +1\n",
        "    numerator = np.sum(np.equal(df[on], cat) & y == 1)\n",
        "    #считаем знаменатель - обзее количество объектов по категории\n",
        "    denominator = np.sum(np.equal(df[on], cat))\n",
        "    noise = np.random.normal(0, 0.0001, 1)\n",
        "    #вычисляем среднее\n",
        "    smooth = (numerator/denominator)+noise\n",
        "\n",
        "    #записываем значения по категории в наш шаблон, чтобы его подложить в фрейм\n",
        "    counts[df[on]==cat]=smooth\n",
        "\n",
        "  # Replace each value by the according smoothed mean\n",
        "  return counts"
      ]
    },
    {
      "cell_type": "code",
      "source": [
        "X_train_noise = X_train.copy()\n",
        "X_test_noise = X_test.copy()\n",
        "\n",
        "for col in cols:\n",
        "  X_train_noise.loc[:, col] = calc_noise_mean(X_train, col, y_train, np.size(X_train[col]))\n",
        "  X_test_noise.loc[:, col] = calc_noise_mean(X_train, col, y_train, np.size(X_test[col]))"
      ],
      "metadata": {
        "id": "skksn4n4JO5e"
      },
      "execution_count": null,
      "outputs": []
    },
    {
      "cell_type": "code",
      "source": [
        "test_time_my=[]\n",
        "test_time_sk=[]\n",
        "\n",
        "start_time_my = time.time()\n",
        "my_model = MyLogReg(gd_type='full')\n",
        "my_model.fit(X_train_noise, y_train)\n",
        "end_time_my=time.time()\n",
        "test_time_my.append(end_time_my-start_time_my)\n",
        "\n",
        "start_time_sk = time.time()\n",
        "sk_model = LogisticRegression(max_iter=10000, solver='sag')\n",
        "sk_model.fit(X_train_noise, y_train)\n",
        "end_time_sk=time.time()\n",
        "test_time_sk.append(end_time_sk-start_time_sk)\n",
        "\n",
        "y_prob_my = my_model.predict_proba(X_test_noise)\n",
        "y_prob_sk = sk_model.predict_proba(X_test_noise)[:, 1]\n",
        "\n",
        "#посчитаем\n",
        "lr_probs = roc_auc_score(y_test, y_prob_my)\n",
        "lr_probs_sk = roc_auc_score(y_test, y_prob_sk)\n",
        "\n",
        "#Результат\n",
        "print('ROC AUC for full gradient = %.3f' % (lr_probs))\n",
        "print('ROC AUC for sklearn = %.3f' % (lr_probs_sk))\n",
        "print(\"---------------------\")\n",
        "print(\"Average time for my model: \", mean(test_time_my))\n",
        "print(\"Average time for sklearn model: \", mean(test_time_sk))"
      ],
      "metadata": {
        "colab": {
          "base_uri": "https://localhost:8080/"
        },
        "id": "pCwUGZaIJdFp",
        "outputId": "f86ebccc-e608-4004-e6f1-daf5e8d69a48"
      },
      "execution_count": null,
      "outputs": [
        {
          "output_type": "stream",
          "name": "stdout",
          "text": [
            "ROC AUC for full gradient = 0.545\n",
            "ROC AUC for sklearn = 0.579\n",
            "---------------------\n",
            "Average time for my model:  174.34487748146057\n",
            "Average time for sklearn model:  178.73768496513367\n"
          ]
        }
      ]
    },
    {
      "cell_type": "markdown",
      "source": [
        "**Вывод:** качество и время выполнения остались примерно на том же уровне, что и на этапе ранее (без добавления шума)."
      ],
      "metadata": {
        "id": "xujz-CGZMtCu"
      }
    },
    {
      "cell_type": "markdown",
      "metadata": {
        "id": "qO8WIoxNfW9J"
      },
      "source": [
        "## Часть 3. Отбор признаков (3 балла + 1 бонус)"
      ]
    },
    {
      "cell_type": "markdown",
      "metadata": {
        "id": "u4U85RHnfW9J"
      },
      "source": [
        "Важной частью процесса построения модели является отбор признаков. На практике многие признаки оказывают малое влияние на модель (при этом они увеличивают время вычислений) или даже негативно сказываются на качестве модели. Попробуем несколько подходов отбора признаков, оценим, как они влияют на качество модели и сколько времени занимают.\n",
        "\n",
        "Обратимся к тому же датасету про обращение клиентов по страховым случаям. Обойдёмся без сэмплирования объектов."
      ]
    },
    {
      "cell_type": "code",
      "execution_count": null,
      "metadata": {
        "ExecuteTime": {
          "end_time": "2018-10-12T07:36:04.765536Z",
          "start_time": "2018-10-12T07:35:57.814973Z"
        },
        "id": "VXhwvr69fW9J"
      },
      "outputs": [],
      "source": [
        "data = pd.read_csv('/content/train.csv', index_col=0)\n",
        "target = data.target.values\n",
        "data = data.drop('target', axis=1)\n",
        "X_train, X_test, y_train, y_test = train_test_split(data, target, test_size=0.2, random_state=124)"
      ]
    },
    {
      "cell_type": "markdown",
      "metadata": {
        "id": "NlcUd0RsfW9J"
      },
      "source": [
        "Как вы помните, в данных много категориальных признаков. Давайте закодируем их с помощью one-hot кодирования. Исходные колонки с категориальными признаками можно удалить. Сколько признаков мы получили?"
      ]
    },
    {
      "cell_type": "code",
      "execution_count": null,
      "metadata": {
        "id": "tXpmveotfW9J"
      },
      "outputs": [],
      "source": [
        "### ╰( ͡° ͜ʖ ͡° )つ──☆*:・ﾟ\n",
        "cols = [col for col in X_train.columns if 'cat' in col]\n",
        "\n",
        "X_train_ohe = pd.get_dummies(X_train, columns=cols, drop_first=True)\n",
        "X_test_ohe = pd.get_dummies(X_test, columns=cols, drop_first=True)"
      ]
    },
    {
      "cell_type": "code",
      "source": [
        "X_train_ohe.shape"
      ],
      "metadata": {
        "colab": {
          "base_uri": "https://localhost:8080/"
        },
        "id": "bqy02CX9N3Gy",
        "outputId": "29896738-51df-471d-b478-3aade1a41a6e"
      },
      "execution_count": null,
      "outputs": [
        {
          "output_type": "execute_result",
          "data": {
            "text/plain": [
              "(476169, 213)"
            ]
          },
          "metadata": {},
          "execution_count": 36
        }
      ]
    },
    {
      "cell_type": "markdown",
      "metadata": {
        "id": "7WZps3mbfW9J"
      },
      "source": [
        "В качестве основной модели будем использовать логистическую регрессию, а целевой метрики — ROC-AUC. Обучите модель и посчитайте качество на тестовой выборке. Давайте запомним полученное значение."
      ]
    },
    {
      "cell_type": "code",
      "execution_count": null,
      "metadata": {
        "id": "fQveZdQ7fW9K",
        "colab": {
          "base_uri": "https://localhost:8080/"
        },
        "outputId": "314978a8-46d7-4741-f2c6-d2be962c0d13"
      },
      "outputs": [
        {
          "output_type": "stream",
          "name": "stdout",
          "text": [
            "ROC AUC for full gradient = 0.535\n",
            "ROC AUC for sklearn = 0.638\n"
          ]
        }
      ],
      "source": [
        "### ╰( ͡° ͜ʖ ͡° )つ──☆*:・ﾟ\n",
        "my_model = MyLogReg(gd_type='full')\n",
        "my_model.fit(X_train_ohe, y_train)\n",
        "\n",
        "#для sklearn использую также solver='sag', так как на большой выборке без этого Colab падает\n",
        "sk_model = LogisticRegression(max_iter=10000, solver='sag')\n",
        "sk_model.fit(X_train_ohe, y_train)\n",
        "\n",
        "y_prob_my = my_model.predict_proba(X_test_ohe)\n",
        "y_prob_sk = sk_model.predict_proba(X_test_ohe)[:, 1]\n",
        "\n",
        "#посчитаем\n",
        "roc_auc_my = roc_auc_score(y_test, y_prob_my)\n",
        "roc_auc_sk = roc_auc_score(y_test, y_prob_sk)\n",
        "\n",
        "#Результат\n",
        "print('ROC AUC for full gradient = %.3f' % (roc_auc_my))\n",
        "print('ROC AUC for sklearn = %.3f' % (roc_auc_sk))"
      ]
    },
    {
      "cell_type": "markdown",
      "metadata": {
        "id": "Bget5tCsfW9K"
      },
      "source": [
        "### Встроенные методы"
      ]
    },
    {
      "cell_type": "markdown",
      "metadata": {
        "id": "JHIflAidfW9K"
      },
      "source": [
        "Допустим, мы хотим оставить только 200 лучших признаков. Попробуем сделать это несколькими способами.\n",
        "\n",
        "Начнём с отборам признаков с помощью линейной модели. Как известно, веса линейной модели означают вклад каждого признака в предсказание модели, а значит, модуль этого вклада можно интерпретировать как важность признаков. Такой метод отбора называются встроенным или embedded methods, так как он заложен в особенности модели.\n",
        "\n",
        "__Задание 10 (1 балл).__ Оставьте 200 признаков с наибольшим модулем соответсвующего параметра линейной модели. Обучите модели заново и оцените её качество. Замерьте скорость такого отбора признаков.\n",
        "\n",
        "Изменилось ли качество? Как?"
      ]
    },
    {
      "cell_type": "markdown",
      "source": [
        "Использование [f-regression](https://scikit-learn.org/stable/modules/generated/sklearn.feature_selection.f_regression.html#sklearn.feature_selection.f_regression)"
      ],
      "metadata": {
        "id": "LLsIKozx2FCU"
      }
    },
    {
      "cell_type": "code",
      "source": [
        "#использую SelectKBest - removes all but the K highest scoring features\n",
        "#также использую модель обученную выше - sk_model\n",
        "from sklearn.feature_selection import SelectKBest\n",
        "from sklearn.feature_selection import f_regression\n",
        "\n",
        "test_time=[]\n",
        "start_time_sk = time.time()\n",
        "fs = SelectKBest(score_func=f_regression, k=200)\n",
        "\n",
        "X_train_200 = pd.DataFrame(fs.fit_transform(X_train_ohe, y_train))\n",
        "X_test_200 = pd.DataFrame(fs.transform(X_test_ohe))\n",
        "end_time_sk=time.time()\n",
        "test_time.append(end_time_sk-start_time_sk)\n",
        "print(\"Скорость отбора признаков: \", mean(test_time))"
      ],
      "metadata": {
        "colab": {
          "base_uri": "https://localhost:8080/"
        },
        "id": "cyTR6Nd7z6m7",
        "outputId": "143e80ee-4c0a-45d7-e030-b49c2e49efb3"
      },
      "execution_count": null,
      "outputs": [
        {
          "output_type": "stream",
          "name": "stdout",
          "text": [
            "Скорость отбора признаков:  1.5868988037109375\n"
          ]
        }
      ]
    },
    {
      "cell_type": "code",
      "source": [
        "test_time=[]\n",
        "\n",
        "start_time_sk = time.time()\n",
        "sk_model = LogisticRegression(max_iter=10000, n_jobs = -1, tol = 0.1, solver='sag')\n",
        "sk_model.fit(X_train_200, y_train)\n",
        "end_time_sk=time.time()\n",
        "test_time.append(end_time_sk-start_time_sk)\n",
        "\n",
        "y_prob_sk = sk_model.predict_proba(X_test_200)[:, 1]\n",
        "\n",
        "#посчитаем\n",
        "lr_probs = roc_auc_score(y_test, y_prob_sk)\n",
        "\n",
        "#Результат\n",
        "print(\"Скорость обучения на отобранных признаках: \", mean(test_time))\n",
        "print(\"ROC AUC: \", lr_probs)\n"
      ],
      "metadata": {
        "colab": {
          "base_uri": "https://localhost:8080/"
        },
        "id": "2DWLjfZTrIvI",
        "outputId": "8879fd8c-de97-46a3-d054-ef435c4f7e89"
      },
      "execution_count": null,
      "outputs": [
        {
          "output_type": "stream",
          "name": "stdout",
          "text": [
            "Скорость обучения на отобранных признаках:  12.44307541847229\n",
            "ROC AUC:  0.6374951639934501\n"
          ]
        }
      ]
    },
    {
      "cell_type": "markdown",
      "metadata": {
        "id": "OBI8zMoxfW9N"
      },
      "source": [
        "А теперь давайте подумаем, что мы не учли. Мы предположили, что признаки вносят вклад равномерно, но не учли их масштаба. Если мы умножим один из признаков в 100 раз, то без учёта регуляризации его вес уменьшится в эти же 100 раз. А мы на основе этого отбираем признаки! Давайте сначала отнормируем признаки одним из способов, а только потом будем удалять признаки.\n",
        "\n",
        "Кстати, в таком случае надо пересчитать качество на всех признаках (сделайте это ниже). Если вы сделали нормирование признаков в самом начале, то попробуйте отобрать признаки на неотмасштабированных данных.\n",
        "\n",
        "Что получилось?"
      ]
    },
    {
      "cell_type": "code",
      "execution_count": null,
      "metadata": {
        "id": "U4ZWw-r1fW9N"
      },
      "outputs": [],
      "source": [
        "### ╰( ͡° ͜ʖ ͡° )つ──☆*:・ﾟ\n",
        "from sklearn.preprocessing import MinMaxScaler\n",
        "scaler = MinMaxScaler()\n",
        "X_train_sc = pd.DataFrame(scaler.fit_transform(X_train_ohe))\n",
        "X_test_sc = pd.DataFrame(scaler.transform(X_test_ohe))"
      ]
    },
    {
      "cell_type": "code",
      "source": [
        "#посмотрим на модель без отбора признаков\n",
        "without_selection = LogisticRegression(max_iter=10000, n_jobs = -1, tol = 0.1, solver='sag')\n",
        "without_selection.fit(X_train_sc, y_train)\n",
        "y_prob_without = without_selection.predict_proba(X_test_sc)[:, 1]\n",
        "res_without = roc_auc_score(y_test, y_prob_without)\n",
        "\n",
        "#и на модель с отбором признаков\n",
        "fs = SelectKBest(score_func=f_regression, k=200)\n",
        "X_train_200_sc = pd.DataFrame(fs.fit_transform(X_train_sc, y_train))\n",
        "X_test_200_sc = pd.DataFrame(fs.transform(X_test_sc))\n",
        "\n",
        "with_selection = LogisticRegression(max_iter=10000, n_jobs = -1, tol = 0.1, solver='sag')\n",
        "with_selection.fit(X_train_200_sc, y_train)\n",
        "y_prob_with = with_selection.predict_proba(X_test_200_sc)[:, 1]\n",
        "res_with = roc_auc_score(y_test, y_prob_with)\n",
        "\n",
        "print('ROC AUC без отбора признаков: = %.3f' % (res_without))\n",
        "print('ROC AUC с отбором признаков: = %.3f' % (res_with))\n"
      ],
      "metadata": {
        "colab": {
          "base_uri": "https://localhost:8080/"
        },
        "id": "Z3ErwDyG5sbJ",
        "outputId": "ecb3dc8b-d033-4061-afe3-1e8d37f689a5"
      },
      "execution_count": null,
      "outputs": [
        {
          "output_type": "stream",
          "name": "stdout",
          "text": [
            "ROC AUC без отбора признаков: = 0.637\n",
            "ROC AUC с отбором признаков: = 0.635\n"
          ]
        }
      ]
    },
    {
      "cell_type": "markdown",
      "source": [
        "**Выводы**:\n",
        "модели обучаются за считанные секунды. Но вот ROC AUC на нормированных данных практически идентично, что с отбором признаков, что без."
      ],
      "metadata": {
        "id": "GcIwRc0w8fP0"
      }
    },
    {
      "cell_type": "markdown",
      "metadata": {
        "id": "0t7HkqgpfW9N"
      },
      "source": [
        "__Задание 10 (0.5 балла).__\n",
        "Можно задать отбор признаков более функционально. Вспомним, что L1-регуляризация также умеет отбирать признаки. Понятно, что теперь нам будет сложнее оставить именно 200 лучших признаков, но возможно они нам и не нужны. Подберите коэффициент регуляризации и проверьте, как изменилось качество. Получилось ли добиться лучшего качества при менее чем 200 признаках?"
      ]
    },
    {
      "cell_type": "code",
      "execution_count": null,
      "metadata": {
        "id": "n-snHXbLfW9O"
      },
      "outputs": [],
      "source": [
        "### ╰( ͡° ͜ʖ ͡° )つ──☆*:・ﾟ\n",
        "#На всякий случай обновим данные\n",
        "cols = [col for col in X_train.columns if 'cat' in col]\n",
        "\n",
        "X_train_ohe = pd.get_dummies(X_train, columns=cols, drop_first=True)\n",
        "X_test_ohe = pd.get_dummies(X_test, columns=cols, drop_first=True)\n",
        "\n",
        "scaler = MinMaxScaler()\n",
        "X_train_sc = pd.DataFrame(scaler.fit_transform(X_train_ohe))\n",
        "X_test_sc = pd.DataFrame(scaler.transform(X_test_ohe))"
      ]
    },
    {
      "cell_type": "markdown",
      "source": [
        "про подбор [регуляризации](https://scikit-learn.org/stable/modules/generated/sklearn.linear_model.LogisticRegressionCV.html#sklearn.linear_model.LogisticRegressionCV)"
      ],
      "metadata": {
        "id": "71--C9EcFxYm"
      }
    },
    {
      "cell_type": "code",
      "source": [
        "from sklearn.linear_model import LogisticRegression, LogisticRegressionCV\n",
        "lr_cv = LogisticRegressionCV(penalty='l1', solver='liblinear', Cs=np.linspace(0.001, 0.01, 30), refit=True)\n",
        "lr_cv = lr_cv.fit(X_train_sc, y_train)\n",
        "print(np.count_nonzero(lr_cv.coef_))"
      ],
      "metadata": {
        "colab": {
          "base_uri": "https://localhost:8080/"
        },
        "id": "C63djC6dD_S1",
        "outputId": "7c5e5036-3933-46fd-fa1f-c11b45605f2e"
      },
      "execution_count": null,
      "outputs": [
        {
          "output_type": "stream",
          "name": "stdout",
          "text": [
            "8\n"
          ]
        }
      ]
    },
    {
      "cell_type": "markdown",
      "source": [
        "**Вывод**: мы получили только 8 ненулевых коеэффициентов из 213."
      ],
      "metadata": {
        "id": "rGefIVutfEVL"
      }
    },
    {
      "cell_type": "code",
      "source": [
        "indices = np.where(np.abs(lr_cv.coef_[0]) < 1e-6)[0]\n",
        "X_train_l = X_train_sc.drop(indices, axis = 1)\n",
        "X_test_l = X_test_sc.drop(indices, axis = 1)\n",
        "\n",
        "X_test_l.shape"
      ],
      "metadata": {
        "colab": {
          "base_uri": "https://localhost:8080/"
        },
        "id": "De0Vm5-bJ6VL",
        "outputId": "124d119b-b8c0-4e96-ad49-56492f89777f"
      },
      "execution_count": null,
      "outputs": [
        {
          "output_type": "execute_result",
          "data": {
            "text/plain": [
              "(119043, 8)"
            ]
          },
          "metadata": {},
          "execution_count": 63
        }
      ]
    },
    {
      "cell_type": "code",
      "source": [
        "model = LogisticRegression(max_iter=1000, n_jobs = -1, penalty='l1', tol = 0.1, solver='liblinear')\n",
        "model.fit(X_train_l, y_train)\n",
        "y_prob = model.predict_proba(X_test_l)[:, 1]\n",
        "roc_auc = roc_auc_score(y_test, y_prob)\n",
        "\n",
        "print('ROC AUC с отбором L1: = %.3f' % (roc_auc))"
      ],
      "metadata": {
        "colab": {
          "base_uri": "https://localhost:8080/"
        },
        "id": "2Wr_H_FMJRem",
        "outputId": "0694bd10-2c7c-4018-b770-82433ff56032"
      },
      "execution_count": null,
      "outputs": [
        {
          "output_type": "stream",
          "name": "stderr",
          "text": [
            "/usr/local/lib/python3.10/dist-packages/sklearn/linear_model/_logistic.py:1211: UserWarning: 'n_jobs' > 1 does not have any effect when 'solver' is set to 'liblinear'. Got 'n_jobs' = 2.\n",
            "  warnings.warn(\n"
          ]
        },
        {
          "output_type": "stream",
          "name": "stdout",
          "text": [
            "ROC AUC с отбором L1: = 0.606\n"
          ]
        }
      ]
    },
    {
      "cell_type": "markdown",
      "source": [
        "**Вывод**: Модель, обученная на 8 признаках из 213 чуть менее эффективна, чем модель обученная на 200 признаках."
      ],
      "metadata": {
        "id": "MaY8fJbFfU1S"
      }
    },
    {
      "cell_type": "markdown",
      "metadata": {
        "id": "ZmE8KCEbfW9O"
      },
      "source": [
        "### Методы фильтрации"
      ]
    },
    {
      "cell_type": "markdown",
      "metadata": {
        "id": "N5ywWoISfW9O"
      },
      "source": [
        "Давайте отбирать признаки умнее, а именно через подсчёт некоторой функции для каждого признака. На основании значений этой функции будем оставлять наиболее важные признаки. Методы этого семейства называют фильтрующими или  filter methods.\n",
        "\n",
        "В качестве такой функции будем считать t-статистику:\n",
        "\n",
        "$$t(x) = \\frac{|\\mu_+ - \\mu_-|}{\\sqrt{\\frac{n_+ \\sigma^2_+ + n_- \\sigma^2_-}{n_+ + n_-}}},$$\n",
        "\n",
        "где $mu$, $sigma$, $n$ соответственно среднее, среднеквадратичное отклонение и количество объектов каждого из классов.\n",
        "\n",
        "Если у вас был курс математической статистики, то вы без труда узнаете статистику гипотезы о разности средних при неизвестных дисперсиях. Если же нет, то интуиция следующая. Вообще мы хотим понять, различаются ли распределения признака для двух разных классов. Мы проверяем, что математические ожидания двух распределений различаются. Если они различаются, значит и сами распределения разные. Отсюда можно сделать вывод, что по этому признаку модель сможет отличить один класс от другого. А если распределения неотличимы и статистика маленькая, то и признак бесполезен.\n",
        "\n",
        "Важно оговориться, что хотя мы и не используем статистическое тестирование явно, предпосылки о том, что наблюдения независимы, одинаково распределены и n велико, должны соблюдаться, иначе статистика не имеет смысла. Но у нас большая выборка, поэтому они выполняются. По-хорошему, конечно, надо бы сравнивать статистику с пороговым значением t-распределения и полноценно тестировать гипотезу, но мы обойдёмся простой эвристикой и возьмём признаки с наибольшим значением.\n",
        "\n",
        "\n",
        "__Задание 11 (1 балл)__. Оставьте 200 признаков с наибольшим значением и замерьте качество. Не забудьте замерить скорость отбора признаков в этом случаев."
      ]
    },
    {
      "cell_type": "code",
      "execution_count": null,
      "metadata": {
        "id": "sbuR7T2sfW9O"
      },
      "outputs": [],
      "source": [
        "### ╰( ͡° ͜ʖ ͡° )つ──☆*:・ﾟ\n",
        "def calc_t(X, y):\n",
        "    #Разделим данные по классам\n",
        "    X_positive = X[y == 1]\n",
        "    X_negative = X[y == 0]\n",
        "\n",
        "    #Считаем количество\n",
        "    n_positive = len(X_positive)\n",
        "    n_negative = len(X_negative)\n",
        "\n",
        "    #Считаем среднее\n",
        "    mu_positive = np.mean(X_positive, axis=0)\n",
        "    mu_negative = np.mean(X_negative, axis=0)\n",
        "\n",
        "    #Считаем сренеквадратичное\n",
        "    sigma_positive = np.std(X_positive, axis=0)\n",
        "    sigma_negative = np.std(X_negative, axis=0)\n",
        "\n",
        "    numerator = np.abs(mu_positive - mu_negative)\n",
        "    denominator=(n_positive * sigma_positive ** 2 + n_negative * sigma_negative ** 2) / (n_positive + n_negative)\n",
        "    t =  numerator/np.sqrt(denominator)\n",
        "\n",
        "    indices = np.argsort(t)[::-1]\n",
        "\n",
        "    return t, indices"
      ]
    },
    {
      "cell_type": "code",
      "source": [
        "#Получим индексы наиболее весомых признаков\n",
        "test_time=[]\n",
        "start_time = time.time()\n",
        "t_statistics, indices = calc_t(X_train_sc, y_train)\n",
        "\n",
        "#Посмотрим, что это были за колонки\n",
        "selected_columns = X_train_sc.columns[indices[:200]]\n",
        "X_train_tstat = X_train_sc[selected_columns]\n",
        "X_test_tstat = X_test_sc[selected_columns]\n",
        "end_time=time.time()\n",
        "test_time.append(end_time-start_time)\n",
        "print(\"Скорость отбора признаков: \", mean(test_time))"
      ],
      "metadata": {
        "colab": {
          "base_uri": "https://localhost:8080/"
        },
        "id": "EvfhHWouQ4FF",
        "outputId": "42461d27-3332-48e9-9c87-cfb290eaef3f"
      },
      "execution_count": null,
      "outputs": [
        {
          "output_type": "stream",
          "name": "stdout",
          "text": [
            "Скорость отбора признаков:  3.4491336345672607\n"
          ]
        }
      ]
    },
    {
      "cell_type": "code",
      "source": [
        "model = LogisticRegression(max_iter=1000, n_jobs = -1, tol = 0.1, solver='sag')\n",
        "model.fit(X_train_tstat, y_train)\n",
        "y_prob = model.predict_proba(X_test_tstat)[:, 1]\n",
        "roc_auc = roc_auc_score(y_test, y_prob)\n",
        "\n",
        "print('ROC AUC с T статистикой: = %.3f' % (roc_auc))"
      ],
      "metadata": {
        "colab": {
          "base_uri": "https://localhost:8080/"
        },
        "id": "Z6-djnkRSESI",
        "outputId": "1c834ae3-6e96-443e-93ed-e5b2f359d839"
      },
      "execution_count": null,
      "outputs": [
        {
          "output_type": "stream",
          "name": "stdout",
          "text": [
            "ROC AUC с T статистикой: = 0.635\n"
          ]
        }
      ]
    },
    {
      "cell_type": "markdown",
      "metadata": {
        "id": "u4Utprw2fW9O"
      },
      "source": [
        "### Методы-обёртки"
      ]
    },
    {
      "cell_type": "markdown",
      "metadata": {
        "id": "tUpISFwvfW9O"
      },
      "source": [
        "__Задание 12 (бонус, 1 балл)__.\n",
        "\n",
        "\n",
        "Заключительный из рассматриваемых нами методов работает следующим образом: мы исключаем по очереди один из признаков и смотрим, как это влияет на качество. Удаляем признаки таким жадным способом, пока не достигнем некоторого критерия (количество признаков или ухудшением качества).\n",
        "\n",
        "Заметим, что нельзя оценивать качество по тестовой выборке, иначе мы можем переобучиться, как, например, при настройке гиперпараметров. Разделите выборку на 2 части, на одной из них обучайте модель без одного из признаков,  на второй части оценивайте качество. Исходную тестовую выборку стоит использовать только на финальной оценке качества.\n",
        "\n",
        "Сделайте одну итерацию и прикиньте, сколько времени займёт такой отбор признаков. Кажется, что чересчур. Давайте возьмём маленький сэмпл данных (например, в 10 тысяч объектов), что сильно уменьшит время итерации. Теперь это долго, но уже приемлимо.\n",
        "\n",
        "Если это всё ещё долго для вашего комьютера, можете попробовать брать не по одному признаку, а сразу по пять (и удалять сразу тоже по 5). Для этого перед каждой итерацией удаления делите заново все признаки на группы по 5 штук.\n",
        "\n",
        "Снова оставьте только 200 признаков и оцените качество на тестовой выборке. Сколько времени занял такой отбор признаков?"
      ]
    },
    {
      "cell_type": "code",
      "execution_count": null,
      "metadata": {
        "id": "ostq0FaTfW9O"
      },
      "outputs": [],
      "source": [
        "### ╰( ͡° ͜ʖ ͡° )つ──☆*:・ﾟ"
      ]
    },
    {
      "cell_type": "markdown",
      "metadata": {
        "id": "04GPqhDyfW9O"
      },
      "source": [
        "Опционально (это не оценивается) можете рассмотреть более интересные стратегии отбора, чем жадная. Например, генетические алгоритмы. Можно закодировать бинарным вектором, включаем мы или нет тот или иной признак в модель. А дальше генетическим алгоритмом оптимизировать этот вектор. Всё ещё не быстро, но точно быстрее жадного.\n"
      ]
    },
    {
      "cell_type": "markdown",
      "metadata": {
        "id": "HzqYUCVwfW9O"
      },
      "source": [
        "**Задание 13 (0.5 балла)** Давайте подведём итоги по отбору признаков. Назовите преимущества и недостатки каждого из методов. Какой метод привёл к наилучшему качеству? Если не делали бонус — сравните встроенный метод и метод фильтрации.\n",
        "\n",
        "**Ответ:**  \n",
        "*Методы фильтрации*:  \n",
        "\"+\"\n",
        "\n",
        "*   Относительно быстрые - встроенные методы рассчитывают быстрее;\n",
        "*   Легко интерпретируемый результат.\n",
        "  \n",
        "  \n",
        "\"-\"\n",
        "  \n",
        "*   Не учитывается взаимосвязь между признаками, а также с целевой переменной.\n",
        "   \n",
        "\n",
        "*Встроенные методы*:  \n",
        "\"+\"\n",
        "\n",
        "\n",
        "*   Достаточно быстрые (кроме регуляризации).\n",
        "*   Учитывается модель - признаки отбираются на основе указанной модели.\n",
        "\n",
        "\n",
        "  "
      ]
    }
  ],
  "metadata": {
    "kernelspec": {
      "display_name": "Python 3",
      "language": "python",
      "name": "python3"
    },
    "language_info": {
      "codemirror_mode": {
        "name": "ipython",
        "version": 3
      },
      "file_extension": ".py",
      "mimetype": "text/x-python",
      "name": "python",
      "nbconvert_exporter": "python",
      "pygments_lexer": "ipython3",
      "version": "3.7.1"
    },
    "toc": {
      "base_numbering": 1,
      "nav_menu": {},
      "number_sections": true,
      "sideBar": true,
      "skip_h1_title": true,
      "title_cell": "Table of Contents",
      "title_sidebar": "Contents",
      "toc_cell": false,
      "toc_position": {},
      "toc_section_display": true,
      "toc_window_display": false
    },
    "varInspector": {
      "cols": {
        "lenName": 16,
        "lenType": 16,
        "lenVar": 40
      },
      "kernels_config": {
        "python": {
          "delete_cmd_postfix": "",
          "delete_cmd_prefix": "del ",
          "library": "var_list.py",
          "varRefreshCmd": "print(var_dic_list())"
        },
        "r": {
          "delete_cmd_postfix": ") ",
          "delete_cmd_prefix": "rm(",
          "library": "var_list.r",
          "varRefreshCmd": "cat(var_dic_list()) "
        }
      },
      "types_to_exclude": [
        "module",
        "function",
        "builtin_function_or_method",
        "instance",
        "_Feature"
      ],
      "window_display": false
    },
    "colab": {
      "provenance": []
    }
  },
  "nbformat": 4,
  "nbformat_minor": 0
}